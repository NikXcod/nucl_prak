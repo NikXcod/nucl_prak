{
  "nbformat": 4,
  "nbformat_minor": 0,
  "metadata": {
    "colab": {
      "provenance": [],
      "authorship_tag": "ABX9TyMk6qbVbX3DMUCRn2Vjwt3+",
      "include_colab_link": true
    },
    "kernelspec": {
      "name": "python3",
      "display_name": "Python 3"
    },
    "language_info": {
      "name": "python"
    }
  },
  "cells": [
    {
      "cell_type": "markdown",
      "metadata": {
        "id": "view-in-github",
        "colab_type": "text"
      },
      "source": [
        "<a href=\"https://colab.research.google.com/github/NikXcod/nucl_prak/blob/master/varlyam.ipynb\" target=\"_parent\"><img src=\"https://colab.research.google.com/assets/colab-badge.svg\" alt=\"Open In Colab\"/></a>"
      ]
    },
    {
      "cell_type": "code",
      "execution_count": null,
      "metadata": {
        "colab": {
          "base_uri": "https://localhost:8080/"
        },
        "id": "G5DeKlD4cc4W",
        "outputId": "c3af91ad-f2fa-44c8-f9dc-1daabd9a4949"
      },
      "outputs": [
        {
          "output_type": "stream",
          "name": "stdout",
          "text": [
            "Сгенерировано 1600 комбинаций и сохранено в combo_list_1.txt.\n",
            "combo_list_1.txt\n"
          ]
        }
      ],
      "source": [
        "from itertools import product\n",
        "\n",
        "# Фиксированные значения\n",
        "positions_12 = [\"1G\"]  # Позиции 1-2\n",
        "positions_34 = [\"3C\", \"33\", \"36\", \"34\"]  # Позиции 3-4\n",
        "positions_57 = [\"PY6\", \"PY7\", \"P5S\", \"PC7\"]  # Позиции 5-7\n",
        "positions_89 = [\"24\"]  # Позиции 8-9\n",
        "positions_1011 = [f\"{i:02}\" for i in range(100)]  # Позиции 10-11: 00-99\n",
        "positions_12_single = [\"3\"]  # Позиция 12\n",
        "positions_1314 = [\"H8\"]  # Позиции 13-14\n",
        "\n",
        "# Генерация комбинаций\n",
        "combinations = [\n",
        "    f\"{p12}{p34}{p57}{p89}{p1011}{p12s}{p1314}\"\n",
        "    for p12, p34, p57, p89, p1011, p12s, p1314 in product(\n",
        "        positions_12, positions_34, positions_57, positions_89, positions_1011, positions_12_single, positions_1314\n",
        "    )\n",
        "]\n",
        "\n",
        "# Сохранение в файл\n",
        "output_file = \"combo_list_1.txt\"\n",
        "with open(output_file, \"w\") as file:\n",
        "    file.write(\"\\n\".join(combinations))\n",
        "\n",
        "print(f\"Сгенерировано {len(combinations)} комбинаций и сохранено в {output_file}.\")"
      ]
    },
    {
      "cell_type": "code",
      "source": [
        "from itertools import product\n",
        "\n",
        "# Фиксированные значения\n",
        "prefix = \"1G\"\n",
        "suffix = \"H8\"\n",
        "position_12 = \"3\"\n",
        "\n",
        "# Наборы значений\n",
        "positions_34 = [\"3C\", \"36\"]\n",
        "positions_57 = [\"U5S\", \"G67\", \"GC7\"]\n",
        "positions_89 = [\"23\"]\n",
        "positions_1011 = [f\"{i:02}\" for i in range(100)]\n",
        "\n",
        "# Генерация комбинаций\n",
        "combinations = [\n",
        "    f\"{prefix}{p34}{p57}{p89}{p1011}{position_12}{suffix}\"\n",
        "    for p34, p57, p89, p1011 in product(positions_34, positions_57, positions_89, positions_1011)\n",
        "]\n",
        "\n",
        "# Сохранение в файл\n",
        "with open(\"combo_list_2.txt\", \"w\") as file:\n",
        "    file.write(\"\\n\".join(combinations))\n",
        "\n",
        "\"Генерация завершена. Файл сохранён как 'combo_list_2.txt'.\"\n"
      ],
      "metadata": {
        "colab": {
          "base_uri": "https://localhost:8080/",
          "height": 35
        },
        "id": "ko0hAMBGeQg3",
        "outputId": "1e66d548-2919-484a-8147-2251fd98f7c9"
      },
      "execution_count": null,
      "outputs": [
        {
          "output_type": "execute_result",
          "data": {
            "text/plain": [
              "\"Генерация завершена. Файл сохранён как 'combo_list_2.txt'.\""
            ],
            "application/vnd.google.colaboratory.intrinsic+json": {
              "type": "string"
            }
          },
          "metadata": {},
          "execution_count": 2
        }
      ]
    },
    {
      "cell_type": "code",
      "source": [
        "# Фиксированные значения\n",
        "prefix = \"1G\"\n",
        "suffix = \"H8\"\n",
        "position_12 = \"3\"\n",
        "\n",
        "# Наборы значений\n",
        "positions_34 = [\"01\"]\n",
        "positions_57 = [\"U5S\", \"U5Y\", \"U5G\", \"U5C\"]\n",
        "positions_89 = [\"24\"]\n",
        "positions_1011 = [f\"{i:02}\" for i in range(100)]\n",
        "\n",
        "# Генерация комбинаций\n",
        "combinations = [\n",
        "    f\"{prefix}{p34}{p57}{p89}{p1011}{position_12}{suffix}\"\n",
        "    for p34, p57, p89, p1011 in product(positions_34, positions_57, positions_89, positions_1011)\n",
        "]\n",
        "\n",
        "# Сохранение в файл\n",
        "with open(\"combo_list_3.txt\", \"w\") as file:\n",
        "    file.write(\"\\n\".join(combinations))\n",
        "\n",
        "\"Генерация завершена. Файл сохранён как 'combo_list_3.txt'.\"\n"
      ],
      "metadata": {
        "colab": {
          "base_uri": "https://localhost:8080/",
          "height": 35
        },
        "id": "qx1c9iMGetGQ",
        "outputId": "e4b3e51b-4f0e-4954-c647-1827f4c0156e"
      },
      "execution_count": null,
      "outputs": [
        {
          "output_type": "execute_result",
          "data": {
            "text/plain": [
              "\"Генерация завершена. Файл сохранён как 'combo_list_3.txt'.\""
            ],
            "application/vnd.google.colaboratory.intrinsic+json": {
              "type": "string"
            }
          },
          "metadata": {},
          "execution_count": 4
        }
      ]
    },
    {
      "cell_type": "code",
      "source": [
        "# Фиксированные значения\n",
        "prefix = \"1G\"\n",
        "suffix = \"H8\"\n",
        "position_12 = \"3\"\n",
        "\n",
        "# Наборы значений\n",
        "positions_34 = [\"33\", \"34\"]\n",
        "positions_57 = [\"3K4\", \"3K7\", \"3K3\"]\n",
        "positions_89 = [\"23\"]\n",
        "positions_1011 = [f\"{i:02}\" for i in range(100)]\n",
        "\n",
        "# Генерация комбинаций\n",
        "combinations = [\n",
        "    f\"{prefix}{p34}{p57}{p89}{p1011}{position_12}{suffix}\"\n",
        "    for p34, p57, p89, p1011 in product(positions_34, positions_57, positions_89, positions_1011)\n",
        "]\n",
        "\n",
        "# Сохранение в файл\n",
        "with open(\"combo_list_4.txt\", \"w\") as file:\n",
        "    file.write(\"\\n\".join(combinations))\n",
        "\n",
        "\"Генерация завершена. Файл сохранён как 'combo_list_4.txt'.\"\n"
      ],
      "metadata": {
        "colab": {
          "base_uri": "https://localhost:8080/",
          "height": 35
        },
        "id": "aqCMXE_oewz3",
        "outputId": "2f3f38b6-b8f4-4ced-e680-bc26c59287e6"
      },
      "execution_count": null,
      "outputs": [
        {
          "output_type": "execute_result",
          "data": {
            "text/plain": [
              "\"Генерация завершена. Файл сохранён как 'combo_list_4.txt'.\""
            ],
            "application/vnd.google.colaboratory.intrinsic+json": {
              "type": "string"
            }
          },
          "metadata": {},
          "execution_count": 5
        }
      ]
    },
    {
      "cell_type": "code",
      "source": [
        "# Фиксированные значения\n",
        "prefix = \"1G\"\n",
        "suffix = \"H8\"\n",
        "position_12 = \"3\"\n",
        "\n",
        "# Наборы значений\n",
        "positions_34 = [\"36\", \"34\", \"33\"]\n",
        "positions_57 = [\"6Y7\", \"6Y6\", \"6Y3\"]\n",
        "positions_89 = [\"24\"]\n",
        "positions_1011 = [f\"{i:02}\" for i in range(100)]\n",
        "\n",
        "# Генерация комбинаций\n",
        "combinations = [\n",
        "    f\"{prefix}{p34}{p57}{p89}{p1011}{position_12}{suffix}\"\n",
        "    for p34, p57, p89, p1011 in product(positions_34, positions_57, positions_89, positions_1011)\n",
        "]\n",
        "\n",
        "# Сохранение в файл\n",
        "with open(\"combo_list_5.txt\", \"w\") as file:\n",
        "    file.write(\"\\n\".join(combinations))\n",
        "\n",
        "\"Генерация завершена. Файл сохранён как 'combo_list_5.txt'.\"\n"
      ],
      "metadata": {
        "colab": {
          "base_uri": "https://localhost:8080/",
          "height": 35
        },
        "id": "v-vS3e3fe10G",
        "outputId": "dd091dc8-de7a-481e-fded-8197ec23f814"
      },
      "execution_count": null,
      "outputs": [
        {
          "output_type": "execute_result",
          "data": {
            "text/plain": [
              "\"Генерация завершена. Файл сохранён как 'combo_list_5.txt'.\""
            ],
            "application/vnd.google.colaboratory.intrinsic+json": {
              "type": "string"
            }
          },
          "metadata": {},
          "execution_count": 6
        }
      ]
    },
    {
      "cell_type": "code",
      "source": [
        "# Фиксированные значения\n",
        "prefix = \"1G\"\n",
        "suffix = \"H8\"\n",
        "position_12 = \"3\"\n",
        "\n",
        "# Наборы значений\n",
        "positions_34 = [\"3C\", \"01\"]\n",
        "positions_57 = [\"CPY\", \"CP6\", \"CP7\", \"CP3\"]\n",
        "positions_89 = [\"23\"]\n",
        "positions_1011 = [f\"{i:02}\" for i in range(100)]\n",
        "\n",
        "# Генерация комбинаций\n",
        "combinations = [\n",
        "    f\"{prefix}{p34}{p57}{p89}{p1011}{position_12}{suffix}\"\n",
        "    for p34, p57, p89, p1011 in product(positions_34, positions_57, positions_89, positions_1011)\n",
        "]\n",
        "\n",
        "# Сохранение в файл\n",
        "with open(\"combo_list_6.txt\", \"w\") as file:\n",
        "    file.write(\"\\n\".join(combinations))\n",
        "\n",
        "\"Генерация завершена. Файл сохранён как 'combo_list_6.txt'.\"\n"
      ],
      "metadata": {
        "colab": {
          "base_uri": "https://localhost:8080/",
          "height": 35
        },
        "id": "S8ntB9OWe2_2",
        "outputId": "19c5bc11-3f37-4b79-ba8e-082734016966"
      },
      "execution_count": null,
      "outputs": [
        {
          "output_type": "execute_result",
          "data": {
            "text/plain": [
              "\"Генерация завершена. Файл сохранён как 'combo_list_6.txt'.\""
            ],
            "application/vnd.google.colaboratory.intrinsic+json": {
              "type": "string"
            }
          },
          "metadata": {},
          "execution_count": 7
        }
      ]
    },
    {
      "cell_type": "code",
      "source": [
        "# Фиксированные значения\n",
        "prefix = \"1G\"\n",
        "suffix = \"H8\"\n",
        "position_12 = \"3\"\n",
        "\n",
        "# Наборы значений\n",
        "positions_34 = [\"3C\"]\n",
        "positions_57 = [\"G67\", \"G6Y\", \"G6S\", \"G6C\"]\n",
        "positions_89 = [\"24\"]\n",
        "positions_1011 = [f\"{i:02}\" for i in range(100)]\n",
        "\n",
        "# Генерация комбинаций\n",
        "combinations = [\n",
        "    f\"{prefix}{p34}{p57}{p89}{p1011}{position_12}{suffix}\"\n",
        "    for p34, p57, p89, p1011 in product(positions_34, positions_57, positions_89, positions_1011)\n",
        "]\n",
        "\n",
        "# Сохранение в файл\n",
        "with open(\"combo_list_7.txt\", \"w\") as file:\n",
        "    file.write(\"\\n\".join(combinations))\n",
        "\n",
        "\"Генерация завершена. Файл сохранён как 'combo_list_7.txt'.\"\n"
      ],
      "metadata": {
        "colab": {
          "base_uri": "https://localhost:8080/",
          "height": 35
        },
        "id": "AbUPzqWqe5b4",
        "outputId": "6108b479-3817-4fa7-8aae-77699559eb83"
      },
      "execution_count": null,
      "outputs": [
        {
          "output_type": "execute_result",
          "data": {
            "text/plain": [
              "\"Генерация завершена. Файл сохранён как 'combo_list_7.txt'.\""
            ],
            "application/vnd.google.colaboratory.intrinsic+json": {
              "type": "string"
            }
          },
          "metadata": {},
          "execution_count": 8
        }
      ]
    },
    {
      "cell_type": "code",
      "source": [
        "# Фиксированные значения\n",
        "prefix = \"1G\"\n",
        "suffix = \"H8\"\n",
        "position_12 = \"3\"\n",
        "\n",
        "# Наборы значений\n",
        "positions_34 = [\"33\"]\n",
        "positions_57 = [\"333\", \"33K\", \"33Y\"]\n",
        "positions_89 = [\"23\", \"24\"]\n",
        "positions_1011 = [f\"{i:02}\" for i in range(100)]\n",
        "\n",
        "# Генерация комбинаций\n",
        "combinations = [\n",
        "    f\"{prefix}{p34}{p57}{p89}{p1011}{position_12}{suffix}\"\n",
        "    for p34, p57, p89, p1011 in product(positions_34, positions_57, positions_89, positions_1011)\n",
        "]\n",
        "\n",
        "# Сохранение в файл\n",
        "with open(\"combo_list_8.txt\", \"w\") as file:\n",
        "    file.write(\"\\n\".join(combinations))\n",
        "\n",
        "\"Генерация завершена. Файл сохранён как 'combo_list_8.txt'.\"\n"
      ],
      "metadata": {
        "colab": {
          "base_uri": "https://localhost:8080/",
          "height": 35
        },
        "id": "BOEZNuKWe7ty",
        "outputId": "753422f5-d07b-48d9-9bfa-1e99d6b36d14"
      },
      "execution_count": null,
      "outputs": [
        {
          "output_type": "execute_result",
          "data": {
            "text/plain": [
              "\"Генерация завершена. Файл сохранён как 'combo_list_8.txt'.\""
            ],
            "application/vnd.google.colaboratory.intrinsic+json": {
              "type": "string"
            }
          },
          "metadata": {},
          "execution_count": 9
        }
      ]
    },
    {
      "cell_type": "code",
      "source": [
        "# Фиксированные значения\n",
        "prefix = \"1G\"\n",
        "suffix = \"H8\"\n",
        "position_12 = \"3\"\n",
        "\n",
        "# Наборы значений\n",
        "positions_34 = [\"36\"]\n",
        "positions_57 = [\"G5S\", \"G5Y\", \"G5C\"]\n",
        "positions_89 = [\"23\"]\n",
        "positions_1011 = [f\"{i:02}\" for i in range(100)]\n",
        "\n",
        "# Генерация комбинаций\n",
        "combinations = [\n",
        "    f\"{prefix}{p34}{p57}{p89}{p1011}{position_12}{suffix}\"\n",
        "    for p34, p57, p89, p1011 in product(positions_34, positions_57, positions_89, positions_1011)\n",
        "]\n",
        "\n",
        "# Сохранение в файл\n",
        "with open(\"combo_list_9.txt\", \"w\") as file:\n",
        "    file.write(\"\\n\".join(combinations))\n",
        "\n",
        "\"Генерация завершена. Файл сохранён как 'combo_list_9.txt'.\"\n"
      ],
      "metadata": {
        "id": "___golPSe_TN",
        "outputId": "d6c68d43-4275-4396-e370-9167b2dde039",
        "colab": {
          "base_uri": "https://localhost:8080/",
          "height": 35
        }
      },
      "execution_count": null,
      "outputs": [
        {
          "output_type": "execute_result",
          "data": {
            "text/plain": [
              "\"Генерация завершена. Файл сохранён как 'combo_list_9.txt'.\""
            ],
            "application/vnd.google.colaboratory.intrinsic+json": {
              "type": "string"
            }
          },
          "metadata": {},
          "execution_count": 10
        }
      ]
    },
    {
      "cell_type": "code",
      "source": [
        "# Фиксированные значения\n",
        "prefix = \"1G\"\n",
        "suffix = \"H8\"\n",
        "position_12 = \"3\"\n",
        "\n",
        "# Наборы значений\n",
        "positions_34 = [\"34\", \"36\"]\n",
        "positions_57 = [\"6Y7\", \"6Y6\", \"6Y5\", \"6Y3\"]\n",
        "positions_89 = [\"24\"]\n",
        "positions_1011 = [f\"{i:02}\" for i in range(50)]  # 00-49\n",
        "\n",
        "# Генерация комбинаций\n",
        "combinations = [\n",
        "    f\"{prefix}{p34}{p57}{p89}{p1011}{position_12}{suffix}\"\n",
        "    for p34, p57, p89, p1011 in product(positions_34, positions_57, positions_89, positions_1011)\n",
        "]\n",
        "\n",
        "# Сохранение в файл\n",
        "with open(\"combo_list_10.txt\", \"w\") as file:\n",
        "    file.write(\"\\n\".join(combinations))\n",
        "\n",
        "\"Генерация завершена. Файл сохранён как 'combo_list_10.txt'.\"\n"
      ],
      "metadata": {
        "id": "du5QCKGLfDj9",
        "outputId": "35bbe03b-d793-425b-c806-9f0ac17e39c8",
        "colab": {
          "base_uri": "https://localhost:8080/",
          "height": 35
        }
      },
      "execution_count": null,
      "outputs": [
        {
          "output_type": "execute_result",
          "data": {
            "text/plain": [
              "\"Генерация завершена. Файл сохранён как 'combo_list_10.txt'.\""
            ],
            "application/vnd.google.colaboratory.intrinsic+json": {
              "type": "string"
            }
          },
          "metadata": {},
          "execution_count": 11
        }
      ]
    }
  ]
}